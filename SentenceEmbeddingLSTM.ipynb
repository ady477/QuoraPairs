{
 "cells": [
  {
   "cell_type": "code",
   "execution_count": 1,
   "metadata": {
    "collapsed": false
   },
   "outputs": [],
   "source": [
    "import tensorflow as tf\n",
    "import numpy as np\n",
    "import pandas as pd\n",
    "import spacy"
   ]
  },
  {
   "cell_type": "markdown",
   "metadata": {},
   "source": [
    "### Getting input data ready"
   ]
  },
  {
   "cell_type": "code",
   "execution_count": 3,
   "metadata": {
    "collapsed": false
   },
   "outputs": [],
   "source": [
    "filePath = \"data/quora_duplicate_questions.tsv\"\n",
    "df = pd.read_csv(filePath,delimiter=\"\\t\")\n",
    "df.question1 = df.question1.fillna(\"\")\n",
    "df.question1 = df.question1.apply(str.lower)\n",
    "df.question2 = df.question2.fillna(\"\")\n",
    "df.question2 = df.question2.apply(str.lower)"
   ]
  },
  {
   "cell_type": "markdown",
   "metadata": {},
   "source": [
    "Finding unique words in dataset to create vocabulary"
   ]
  },
  {
   "cell_type": "code",
   "execution_count": 4,
   "metadata": {
    "collapsed": false
   },
   "outputs": [],
   "source": [
    "def tokenize(s,nlp):\n",
    "    doc = nlp(s)\n",
    "    tokSen = []\n",
    "    for word in doc:\n",
    "        tokSen.append(word.text)\n",
    "    return tokSen\n",
    "\n",
    "nlp = spacy.load('en')\n",
    "uniqueQuestions = df.question1.unique()\n",
    "tokenizedQns = [tokenize(unicode(sentence,'utf8'),nlp) for sentence in uniqueQuestions]\n",
    "words = [word for tokWords in tokenizedQns for word in tokWords]\n",
    "\n",
    "words2 = df.question2.unique()\n",
    "words2 = [tokenize(unicode(sentence,'utf8'),nlp) for sentence in words2]\n",
    "words2 = [word for tokWords in words2 for word in tokWords]\n",
    "words.extend(words2)"
   ]
  },
  {
   "cell_type": "markdown",
   "metadata": {},
   "source": [
    "Adding PAD as filler for normalizing sentence length and UNK for unkown tokens"
   ]
  },
  {
   "cell_type": "code",
   "execution_count": 5,
   "metadata": {
    "collapsed": false,
    "scrolled": true
   },
   "outputs": [
    {
     "name": "stdout",
     "output_type": "stream",
     "text": [
      "('Vocabulary Size including PAD and UNK: ', 98364)\n"
     ]
    }
   ],
   "source": [
    "words = set(words)\n",
    "vocabulary = dict(zip(words,range(2,len(words)+2)))\n",
    "vocabulary['PAD'] = 0\n",
    "vocabulary['UNK'] = 1\n",
    "print(\"Vocabulary Size including PAD and UNK: \",len(vocabulary))"
   ]
  },
  {
   "cell_type": "markdown",
   "metadata": {},
   "source": [
    "Each question represented as list of index in the vocabulary"
   ]
  },
  {
   "cell_type": "code",
   "execution_count": 6,
   "metadata": {
    "collapsed": false
   },
   "outputs": [],
   "source": [
    "def loadWordVectors(filePath,vocab):\n",
    "    txt = open('data/wiki.en.vec')\n",
    "    wordVecs = np.zeros((len(vocab),300),dtype=float)\n",
    "    for line in txt:\n",
    "        splitData = line.split(\" \")\n",
    "        word = splitData[0]\n",
    "        word = unicode(word,'utf8')\n",
    "        if(word not in vocab):\n",
    "            continue\n",
    "        vector = splitData[1:len(splitData)-1]\n",
    "        wordVecs[vocab[word]] = np.array(vector,dtype=float)\n",
    "    return wordVecs\n",
    "wordVecSize = 300\n",
    "wordVecs = loadWordVectors('wiki/wiki.en.vec',vocabulary)"
   ]
  },
  {
   "cell_type": "code",
   "execution_count": 7,
   "metadata": {
    "collapsed": false
   },
   "outputs": [],
   "source": [
    "idx = 0 \n",
    "for w in wordVecs:\n",
    "    if(w is None):\n",
    "        count += 1\n",
    "        wordVecs[idx] = 2 * np.random.random_sample(wordVecSize) - 1"
   ]
  },
  {
   "cell_type": "code",
   "execution_count": 8,
   "metadata": {
    "collapsed": false
   },
   "outputs": [],
   "source": [
    "def tokenizeAndIndex(sentence):\n",
    "    words = tokenize(unicode(sentence,'utf8'),nlp)\n",
    "    retVal = [vocabulary[word] if word in vocabulary else vocabulary['UNK'] for word in words]\n",
    "    return retVal\n",
    "df['Q1Indexed'] = df.question1.apply(tokenizeAndIndex)\n",
    "df['Q2Indexed'] = df.question2.apply(tokenizeAndIndex)"
   ]
  },
  {
   "cell_type": "markdown",
   "metadata": {},
   "source": [
    "Threshold questions with total words <= 50"
   ]
  },
  {
   "cell_type": "code",
   "execution_count": 9,
   "metadata": {
    "collapsed": false
   },
   "outputs": [],
   "source": [
    "seqLength = 50\n",
    "df = df[df.Q1Indexed.apply(len) <= seqLength]\n",
    "df = df[df.Q2Indexed.apply(len) <= seqLength]\n",
    "\n",
    "def normalizeSequenceLength(sequence):\n",
    "    if(len(sequence) < seqLength):\n",
    "        padding = [vocabulary['PAD'] for i in range(seqLength - len(sequence))]\n",
    "        sequence.extend(padding)\n",
    "    return sequence\n",
    "df.Q1Indexed = df.Q1Indexed.apply(normalizeSequenceLength)\n",
    "df.Q2Indexed = df.Q2Indexed.apply(normalizeSequenceLength)"
   ]
  },
  {
   "cell_type": "markdown",
   "metadata": {},
   "source": [
    "Saving processed data to file"
   ]
  },
  {
   "cell_type": "code",
   "execution_count": 12,
   "metadata": {
    "collapsed": false
   },
   "outputs": [],
   "source": [
    "df.to_pickle('ProcessedData.pkl')\n",
    "np.save('data/wordVecs.npy',wordVecs)"
   ]
  },
  {
   "cell_type": "markdown",
   "metadata": {},
   "source": [
    "Loading processed data from file"
   ]
  },
  {
   "cell_type": "code",
   "execution_count": null,
   "metadata": {
    "collapsed": true
   },
   "outputs": [],
   "source": [
    "df = pd.read_pickle('data/ProcessedData.pkl')\n",
    "wordVecs = np.load('data/wordVecs.npy')\n",
    "wordVecSize = 300"
   ]
  },
  {
   "cell_type": "markdown",
   "metadata": {},
   "source": [
    "### Building the network"
   ]
  },
  {
   "cell_type": "markdown",
   "metadata": {},
   "source": [
    "Creating setence embedding"
   ]
  },
  {
   "cell_type": "code",
   "execution_count": 40,
   "metadata": {
    "collapsed": false
   },
   "outputs": [],
   "source": [
    "tf.reset_default_graph()"
   ]
  },
  {
   "cell_type": "code",
   "execution_count": 41,
   "metadata": {
    "collapsed": false
   },
   "outputs": [],
   "source": [
    "wordVecSize = 100\n",
    "vocab_size = len(vocabulary)\n",
    "\n",
    "with tf.variable_scope(\"Words\") as scope:\n",
    "    #W = tf.Variable(wordVecs,name=\"W\")\n",
    "    W = tf.Variable(tf.random_uniform([vocab_size, wordVecSize], -1.0, 1.0),name=\"W\")\n",
    "    \n",
    "    q1Input = tf.placeholder(tf.int32, [None, seqLength], name=\"q1Input\")\n",
    "    q1Embeddings = tf.nn.embedding_lookup(W, q1Input)\n",
    "\n",
    "    q2Input = tf.placeholder(tf.int32, [None, seqLength], name=\"q1Input\")\n",
    "    q2Embeddings = tf.nn.embedding_lookup(W, q2Input)\n",
    "\n",
    "with tf.variable_scope(\"Sentence\") as scope:\n",
    "    cell = tf.contrib.rnn.BasicLSTMCell(wordVecSize, forget_bias=0.0, state_is_tuple=True)\n",
    "    q1Rep,_ = tf.nn.dynamic_rnn(cell,q1Embeddings,dtype=tf.float32,swap_memory=True)\n",
    "    q1Rep = q1Rep[:,-1,:]\n",
    "    scope.reuse_variables()\n",
    "    q2Rep,_ = tf.nn.dynamic_rnn(cell,q2Embeddings,dtype=tf.float32,swap_memory=True)\n",
    "    q2Rep = q2Rep[:,-1,:]\n",
    "\n",
    "    sentenceEmbedding = tf.concat([q1Rep,q2Rep],axis=1,name='sentenceEmbedding')"
   ]
  },
  {
   "cell_type": "markdown",
   "metadata": {},
   "source": [
    "Dense layers and output"
   ]
  },
  {
   "cell_type": "code",
   "execution_count": 42,
   "metadata": {
    "collapsed": false
   },
   "outputs": [],
   "source": [
    "with tf.variable_scope(\"DenseLayers\") as scope:\n",
    "    dense1 = tf.layers.dense(inputs=sentenceEmbedding, units=wordVecSize*2, activation=tf.nn.tanh,name='dense1')\n",
    "    dense2 = tf.layers.dense(inputs=dense1, units=wordVecSize*2, activation=tf.nn.tanh,name='dense2')\n",
    "    dense3 = tf.layers.dense(inputs=dense2, units=wordVecSize*2, activation=tf.nn.tanh,name='dense3')\n",
    "    logits = tf.layers.dense(inputs=dense3, units=2,name='logits')\n",
    "\n",
    "with tf.variable_scope(\"Prediction\") as scope:\n",
    "    predictions = tf.argmax(input=tf.nn.softmax(logits=logits,dim=-1,name='softmax'),axis=1,name='output')"
   ]
  },
  {
   "cell_type": "markdown",
   "metadata": {},
   "source": [
    "Loss and gradient updates"
   ]
  },
  {
   "cell_type": "code",
   "execution_count": 43,
   "metadata": {
    "collapsed": false
   },
   "outputs": [],
   "source": [
    "num_classes = 2\n",
    "labels = tf.placeholder(tf.int32,[None,num_classes],name='labels')\n",
    "\n",
    "loss = None\n",
    "train_op = None\n",
    "\n",
    "# Calculate loss for both TRAIN and EVAL modes\n",
    "loss = tf.losses.softmax_cross_entropy(onehot_labels=labels, logits=logits)\n",
    "train_op = tf.contrib.layers.optimize_loss(loss=loss,\n",
    "                                           global_step=tf.contrib.framework.get_global_step(),\n",
    "                                           learning_rate=0.001,\n",
    "                                           optimizer=\"Adam\")\n",
    "correct_prediction = tf.equal(predictions, tf.argmax(labels,1))\n",
    "accuracy = tf.reduce_mean(tf.cast(correct_prediction, \"float\"))"
   ]
  },
  {
   "cell_type": "markdown",
   "metadata": {},
   "source": [
    "Prepare variables for training epoch"
   ]
  },
  {
   "cell_type": "code",
   "execution_count": 44,
   "metadata": {
    "collapsed": false,
    "scrolled": false
   },
   "outputs": [
    {
     "name": "stdout",
     "output_type": "stream",
     "text": [
      "Number of test samples: 120811\n",
      "Number of train samples: 281892\n"
     ]
    }
   ],
   "source": [
    "positiveSamples = df[df.is_duplicate==1]\n",
    "negativeSamples = df[df.is_duplicate==0]\n",
    "\n",
    "#Testing data\n",
    "positiveTest = positiveSamples.sample(frac=0.3)\n",
    "negativeTest = negativeSamples.sample(frac=0.3)\n",
    "testData = positiveTest.append(negativeTest)\n",
    "print(\"Number of test samples: {0}\".format(len(testData)))\n",
    "#Training data\n",
    "trainData = df[df.id.isin(testData.id) == False]\n",
    "print(\"Number of train samples: {0}\".format(len(trainData)))"
   ]
  },
  {
   "cell_type": "code",
   "execution_count": 45,
   "metadata": {
    "collapsed": false
   },
   "outputs": [
    {
     "name": "stdout",
     "output_type": "stream",
     "text": [
      "Starting...\n",
      "Episode:  0\n",
      "\t Training Loss: 0.662535915595\n",
      "\n",
      "\n",
      "\t Test Loss: 0.659305145741\n",
      "\t Test accucary: 62.936258316\n",
      "Episode:  1\n",
      "\t Training Loss: 0.659478649762\n",
      "\n",
      "\n",
      "\t Test Loss: 0.659566149414\n",
      "\t Test accucary: 62.936258316\n",
      "Episode:  2\n",
      "\t Training Loss: 0.659402182306\n",
      "\n",
      "\n",
      "\t Test Loss: 0.659229637384\n",
      "\t Test accucary: 62.936258316\n",
      "Episode:  3\n",
      "\t Training Loss: 0.554340530969\n",
      "\n",
      "\n",
      "\t Test Loss: 0.517640779912\n",
      "\t Test accucary: 74.904855907\n",
      "Episode:  4\n",
      "\t Training Loss: 0.480900127587\n",
      "\n",
      "\n",
      "\t Test Loss: 0.49452365011\n",
      "\t Test accucary: 76.4690087438\n",
      "Episode:  5\n",
      "\t Training Loss: 0.446349791997\n",
      "\n",
      "\n",
      "\t Test Loss: 0.483314101696\n",
      "\t Test accucary: 76.8981148601\n",
      "Episode:  6\n",
      "\t Training Loss: 0.412325976794\n",
      "\n",
      "\n",
      "\t Test Loss: 0.486984855086\n",
      "\t Test accucary: 77.6725384593\n",
      "Episode:  7\n",
      "\t Training Loss: 0.383667752942\n",
      "\n",
      "\n",
      "\t Test Loss: 0.476375217736\n",
      "\t Test accucary: 77.7374815345\n",
      "Episode:  8\n",
      "\t Training Loss: 0.355862004689\n",
      "\n",
      "\n",
      "\t Test Loss: 0.487251645923\n",
      "\t Test accucary: 78.1338256001\n",
      "Episode:  9\n",
      "\t Training Loss: 0.330847498573\n",
      "\n",
      "\n",
      "\t Test Loss: 0.502068645954\n",
      "\t Test accucary: 77.6061733365\n"
     ]
    }
   ],
   "source": [
    "saver = tf.train.Saver(restore_sequentially=True,reshape=False,sharded=False)\n",
    "with tf.Session() as session:\n",
    "    \n",
    "    fetches = {'eval_op':train_op,'accuracy':accuracy}\n",
    "    \n",
    "    print(\"Starting...\")\n",
    "    session.run(tf.global_variables_initializer())\n",
    "    \n",
    "    noEpisodes = 10\n",
    "    batchSize = 1000\n",
    "    noEpochs = len(trainData) / batchSize\n",
    "    \n",
    "    testLabels = tf.one_hot(testData.is_duplicate.values,on_value=1,\n",
    "                            off_value=0,depth=2,axis=-1,name='one_hot_labels')\n",
    "    testLabels = testLabels.eval(session=session)\n",
    "    testQ1Indices = np.array(list(testData.Q1Indexed.values),dtype=np.int32)\n",
    "    testQ2Indices = np.array(list(testData.Q2Indexed.values),dtype=np.int32)\n",
    "    \n",
    "    \n",
    "    noTestBatches = 100\n",
    "    testSzPerBatch = len(testQ1Indices) / noTestBatches\n",
    "    \n",
    "    for episode in range(noEpisodes):\n",
    "        episodeData = trainData.iloc[np.random.permutation(len(trainData))]\n",
    "        \n",
    "        startIdx = 0\n",
    "        episodeLoss = 0\n",
    "        for epoch in range(noEpochs):\n",
    "            batch = episodeData.iloc[startIdx:startIdx+batchSize]\n",
    "            startIdx += batchSize\n",
    "            \n",
    "            oneHotLabels = tf.one_hot(batch.is_duplicate.values,\n",
    "                              on_value=1,off_value=0,depth=2,axis=-1,name='one_hot_labels')\n",
    "            oneHotLabels = oneHotLabels.eval(session=session)\n",
    "            q1Indices = np.array(list(batch.Q1Indexed.values),dtype=np.int32)\n",
    "            q2Indices = np.array(list(batch.Q2Indexed.values),dtype=np.int32)\n",
    "            feed_dict = {q1Input:q1Indices,q2Input:q2Indices,labels:oneHotLabels}\n",
    "\n",
    "            trainMetrics = session.run(fetches,feed_dict)\n",
    "            \n",
    "            episodeLoss += trainMetrics['eval_op']\n",
    "        \n",
    "        episodeLoss /= noEpochs\n",
    "        \n",
    "        saver.save(session,save_path='models/',\n",
    "                   global_step=episode,write_meta_graph=True)\n",
    "        \n",
    "        print \"Episode: \",episode\n",
    "        print \"\\t Training Loss: {0}\".format(episodeLoss)\n",
    "        print \"\\n\"\n",
    "\n",
    "        testLoss = 0\n",
    "        testAccuracy = 0\n",
    "        fetches = {'loss':loss, 'accuracy':accuracy}\n",
    "        for subTest in range(noTestBatches):\n",
    "            startIdx = subTest*testSzPerBatch\n",
    "            endIdx = startIdx + testSzPerBatch\n",
    "            if(subTest == noTestBatches-1):\n",
    "                endIdx = len(testQ1Indices)\n",
    "            testFeed = {q1Input:testQ1Indices[startIdx:endIdx],\n",
    "                        q2Input:testQ2Indices[startIdx:endIdx],\n",
    "                        labels:testLabels[startIdx:endIdx]}\n",
    "            testMetrics = session.run(fetches,testFeed)\n",
    "            testLoss += testMetrics['loss']\n",
    "            testAccuracy += testMetrics['accuracy']\n",
    "            \n",
    "        testLoss = testLoss/float(noTestBatches)\n",
    "        testAccuracy = (100.0 / noTestBatches) * testAccuracy\n",
    "        print \"\\t Test Loss: {0}\".format(testLoss)\n",
    "        print \"\\t Test accucary: {0}\".format(testAccuracy)\n",
    "\n",
    "        fetches = {'eval_op':train_op,'accuracy':accuracy}"
   ]
  },
  {
   "cell_type": "markdown",
   "metadata": {},
   "source": [
    "Testing restore and predictions"
   ]
  },
  {
   "cell_type": "code",
   "execution_count": null,
   "metadata": {
    "collapsed": false
   },
   "outputs": [],
   "source": [
    "with tf.Session() as sess:\n",
    "    saver = tf.train.import_meta_graph('/home/ubuntu/QuestionPairs/SumModel/-9.meta')\n",
    "    saver.restore(sess, '/home/ubuntu/QuestionPairs/SumModel/-9')\n",
    "    \n",
    "    temp = predictions.eval(session=sess,feed_dict=testFeed1)"
   ]
  },
  {
   "cell_type": "code",
   "execution_count": null,
   "metadata": {
    "collapsed": false,
    "scrolled": false
   },
   "outputs": [],
   "source": [
    "#np.argmax(testLabels[:lTest],axis=1)\n",
    "actual = np.argmax(testLabels[:lTest],axis=1)\n",
    "predicted = temp"
   ]
  },
  {
   "cell_type": "code",
   "execution_count": null,
   "metadata": {
    "collapsed": false
   },
   "outputs": [],
   "source": [
    "y = actual - predicted\n",
    "print \"%age of non duplicates classified as duplicates: \", float(len(y[y==-1])) / float(len(y))\n",
    "print \"%age of duplicates classified as non duplicates: \", float(len(y[y==1])) / float(len(y))"
   ]
  }
 ],
 "metadata": {
  "anaconda-cloud": {},
  "kernelspec": {
   "display_name": "Python 2",
   "language": "python",
   "name": "python2"
  },
  "language_info": {
   "codemirror_mode": {
    "name": "ipython",
    "version": 2
   },
   "file_extension": ".py",
   "mimetype": "text/x-python",
   "name": "python",
   "nbconvert_exporter": "python",
   "pygments_lexer": "ipython2",
   "version": "2.7.6"
  }
 },
 "nbformat": 4,
 "nbformat_minor": 0
}
