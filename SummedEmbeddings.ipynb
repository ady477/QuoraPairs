{
 "cells": [
  {
   "cell_type": "code",
   "execution_count": 1,
   "metadata": {
    "collapsed": true
   },
   "outputs": [],
   "source": [
    "import tensorflow as tf\n",
    "import numpy as np\n",
    "import re\n",
    "import pandas as pd\n",
    "import nltk\n",
    "from nltk import tokenize"
   ]
  },
  {
   "cell_type": "markdown",
   "metadata": {},
   "source": [
    "### Getting input data ready"
   ]
  },
  {
   "cell_type": "code",
   "execution_count": 2,
   "metadata": {
    "collapsed": false
   },
   "outputs": [],
   "source": [
    "filePath = \"/home/ubuntu/quora_duplicate_questions.tsv\"\n",
    "df = pd.read_csv(filePath,delimiter=\"\\t\")\n",
    "df.question1 = df.question1.fillna(\"\")\n",
    "df.question1 = df.question1.apply(str.lower)\n",
    "df.question2 = df.question2.fillna(\"\")\n",
    "df.question2 = df.question2.apply(str.lower)"
   ]
  },
  {
   "cell_type": "markdown",
   "metadata": {},
   "source": [
    "Finding unique words in dataset to create vocabulary"
   ]
  },
  {
   "cell_type": "code",
   "execution_count": 3,
   "metadata": {
    "collapsed": false
   },
   "outputs": [],
   "source": [
    "tokzr = nltk.tokenize.TreebankWordTokenizer()\n",
    "uniqueQuestions = df.question1.unique()\n",
    "tokenizedQns = [tokzr.tokenize(sentence) for sentence in uniqueQuestions]\n",
    "words = [word for tokWords in tokenizedQns for word in tokWords]\n",
    "\n",
    "words2 = df.question2.unique()\n",
    "words2 = [tokzr.tokenize(sentence) for sentence in words2]\n",
    "words2 = [word for tokWords in words2 for word in tokWords]\n",
    "words.extend(words2)"
   ]
  },
  {
   "cell_type": "markdown",
   "metadata": {},
   "source": [
    "Adding PAD as filler for normalizing sentence length and UNK for unkown tokens"
   ]
  },
  {
   "cell_type": "code",
   "execution_count": 4,
   "metadata": {
    "collapsed": false,
    "scrolled": true
   },
   "outputs": [
    {
     "name": "stdout",
     "output_type": "stream",
     "text": [
      "('Vocabulary Size including PAD and UNK: ', 122188)\n"
     ]
    }
   ],
   "source": [
    "words = set(words)\n",
    "vocabulary = dict(zip(words,range(2,len(words)+2)))\n",
    "vocabulary['PAD'] = 0\n",
    "vocabulary['UNK'] = 1\n",
    "print(\"Vocabulary Size including PAD and UNK: \",len(vocabulary))"
   ]
  },
  {
   "cell_type": "markdown",
   "metadata": {},
   "source": [
    "Each question represented as list of index in the vocabulary"
   ]
  },
  {
   "cell_type": "code",
   "execution_count": 5,
   "metadata": {
    "collapsed": false
   },
   "outputs": [],
   "source": [
    "def tokenizeAndIndex(sentence):\n",
    "    words = tokzr.tokenize(sentence)\n",
    "    retVal = [vocabulary[word] if word in vocabulary else vocabulary['UNK'] for word in words]\n",
    "    return retVal\n",
    "df['Q1Indexed'] = df.question1.apply(tokenizeAndIndex)\n",
    "df['Q2Indexed'] = df.question2.apply(tokenizeAndIndex)"
   ]
  },
  {
   "cell_type": "markdown",
   "metadata": {},
   "source": [
    "Threshold questions with total words <= 50"
   ]
  },
  {
   "cell_type": "code",
   "execution_count": 6,
   "metadata": {
    "collapsed": false
   },
   "outputs": [],
   "source": [
    "seqLength = 50\n",
    "df = df[df.Q1Indexed.apply(len) <= seqLength]\n",
    "df = df[df.Q2Indexed.apply(len) <= seqLength]\n",
    "\n",
    "def normalizeSequenceLength(sequence):\n",
    "    if(len(sequence) < seqLength):\n",
    "        padding = [vocabulary['PAD'] for i in range(seqLength - len(sequence))]\n",
    "        sequence.extend(padding)\n",
    "    return sequence\n",
    "df.Q1Indexed = df.Q1Indexed.apply(normalizeSequenceLength)\n",
    "df.Q2Indexed = df.Q2Indexed.apply(normalizeSequenceLength)"
   ]
  },
  {
   "cell_type": "markdown",
   "metadata": {},
   "source": [
    "### Building the network"
   ]
  },
  {
   "cell_type": "markdown",
   "metadata": {},
   "source": [
    "Creating setence embedding"
   ]
  },
  {
   "cell_type": "code",
   "execution_count": 7,
   "metadata": {
    "collapsed": false
   },
   "outputs": [],
   "source": [
    "vocab_size = len(vocabulary)\n",
    "embedding_size = 100\n",
    "\n",
    "W = tf.Variable(tf.random_uniform([vocab_size, embedding_size], -1.0, 1.0),name=\"W\")\n",
    "\n",
    "q1Input = tf.placeholder(tf.int32, [None, seqLength], name=\"q1Input\")\n",
    "q1Embeddings = tf.nn.embedding_lookup(W, q1Input)\n",
    "q1Embeddings = tf.reduce_sum(q1Embeddings, 1)\n",
    "\n",
    "q2Input = tf.placeholder(tf.int32, [None, seqLength], name=\"q1Input\")\n",
    "q2Embeddings = tf.nn.embedding_lookup(W, q2Input)\n",
    "q2Embeddings = tf.reduce_sum(q2Embeddings, 1)\n",
    "\n",
    "sentenceEmbedding = tf.concat([q1Embeddings,q2Embeddings],axis=1,name='sentenceEmbedding')"
   ]
  },
  {
   "cell_type": "markdown",
   "metadata": {},
   "source": [
    "Dense layers and output"
   ]
  },
  {
   "cell_type": "code",
   "execution_count": 8,
   "metadata": {
    "collapsed": false
   },
   "outputs": [],
   "source": [
    "dense1 = tf.layers.dense(inputs=sentenceEmbedding, units=embedding_size*2, activation=tf.nn.tanh,name='dense1')\n",
    "dense2 = tf.layers.dense(inputs=dense1, units=embedding_size*2, activation=tf.nn.tanh,name='dense2')\n",
    "dense3 = tf.layers.dense(inputs=dense2, units=embedding_size*2, activation=tf.nn.tanh,name='dense3')\n",
    "logits = tf.layers.dense(inputs=dense3, units=2,name='logits')\n",
    "predictions = tf.argmax(input=tf.nn.softmax(logits=logits,dim=-1,name='softmax'),axis=1,name='output')"
   ]
  },
  {
   "cell_type": "markdown",
   "metadata": {},
   "source": [
    "Loss and gradient updates"
   ]
  },
  {
   "cell_type": "code",
   "execution_count": 9,
   "metadata": {
    "collapsed": false
   },
   "outputs": [],
   "source": [
    "num_classes = 2\n",
    "labels = tf.placeholder(tf.int32,[None,num_classes],name='labels')\n",
    "\n",
    "loss = None\n",
    "train_op = None\n",
    "\n",
    "# Calculate loss for both TRAIN and EVAL modes\n",
    "loss = tf.losses.softmax_cross_entropy(onehot_labels=labels, logits=logits)\n",
    "train_op = tf.contrib.layers.optimize_loss(loss=loss,\n",
    "                                           global_step=tf.contrib.framework.get_global_step(),\n",
    "                                           learning_rate=0.001,\n",
    "                                           optimizer=\"Adam\")\n",
    "correct_prediction = tf.equal(predictions, tf.argmax(labels,1))\n",
    "accuracy = tf.reduce_mean(tf.cast(correct_prediction, \"float\"))"
   ]
  },
  {
   "cell_type": "markdown",
   "metadata": {},
   "source": [
    "Prepare variables for training epoch"
   ]
  },
  {
   "cell_type": "code",
   "execution_count": 10,
   "metadata": {
    "collapsed": false,
    "scrolled": false
   },
   "outputs": [
    {
     "name": "stdout",
     "output_type": "stream",
     "text": [
      "Number of test samples: 120852\n",
      "Number of train samples: 281986\n"
     ]
    }
   ],
   "source": [
    "positiveSamples = df[df.is_duplicate==1]\n",
    "negativeSamples = df[df.is_duplicate==0]\n",
    "\n",
    "#Testing data\n",
    "positiveTest = positiveSamples.sample(frac=0.3)\n",
    "negativeTest = negativeSamples.sample(frac=0.3)\n",
    "testData = positiveTest.append(negativeTest)\n",
    "print(\"Number of test samples: {0}\".format(len(testData)))\n",
    "#Training data\n",
    "trainData = df[df.id.isin(testData.id) == False]\n",
    "print(\"Number of train samples: {0}\".format(len(trainData)))"
   ]
  },
  {
   "cell_type": "code",
   "execution_count": 11,
   "metadata": {
    "collapsed": true
   },
   "outputs": [
    {
     "name": "stdout",
     "output_type": "stream",
     "text": [
      "Starting...\n",
      "Episode:  0\n",
      "\t Training Loss: 0.625947948665\n",
      "\n",
      "\n",
      "\t Test Loss: 0.586109280586\n",
      "\t Test accucary: 69.139111042\n",
      "Episode:  1\n",
      "\t Training Loss: 0.559817612595\n",
      "\n",
      "\n",
      "\t Test Loss: 0.552389085293\n",
      "\t Test accucary: 72.1576750278\n",
      "Episode:  2\n",
      "\t Training Loss: 0.523507411794\n",
      "\n",
      "\n",
      "\t Test Loss: 0.531595468521\n",
      "\t Test accucary: 74.0815162659\n",
      "Episode:  3\n",
      "\t Training Loss: 0.496339569631\n",
      "\n",
      "\n",
      "\t Test Loss: 0.515952825546\n",
      "\t Test accucary: 74.6930062771\n",
      "Episode:  4\n",
      "\t Training Loss: 0.471485107395\n",
      "\n",
      "\n",
      "\t Test Loss: 0.520262002945\n",
      "\t Test accucary: 75.0190317631\n",
      "Episode:  5\n",
      "\t Training Loss: 0.452938687441\n",
      "\n",
      "\n",
      "\t Test Loss: 0.512930512428\n",
      "\t Test accucary: 75.2689182758\n",
      "Episode:  6\n",
      "\t Training Loss: 0.434044698803\n",
      "\n",
      "\n",
      "\t Test Loss: 0.501904070377\n",
      "\t Test accucary: 75.8770942688\n",
      "Episode:  7\n",
      "\t Training Loss: 0.41747579021\n",
      "\n",
      "\n",
      "\t Test Loss: 0.519470989704\n",
      "\t Test accucary: 75.724029541\n",
      "Episode:  8\n",
      "\t Training Loss: 0.399334875608\n",
      "\n",
      "\n",
      "\t Test Loss: 0.517299473286\n",
      "\t Test accucary: 74.4414627552\n",
      "Episode:  9\n",
      "\t Training Loss: 0.388827730752\n",
      "\n",
      "\n",
      "\t Test Loss: 0.518292307854\n",
      "\t Test accucary: 75.6114780903\n"
     ]
    }
   ],
   "source": [
    "with tf.Session() as session:\n",
    "    \n",
    "    fetches = {'eval_op':train_op,'accuracy':accuracy}\n",
    "    \n",
    "    print(\"Starting...\")\n",
    "    session.run(tf.global_variables_initializer())\n",
    "    \n",
    "    noEpisodes = 10\n",
    "    batchSize = 1000\n",
    "    noEpochs = len(trainData) / batchSize\n",
    "    \n",
    "    testLabels = tf.one_hot(testData.is_duplicate.values,on_value=1,\n",
    "                            off_value=0,depth=2,axis=-1,name='one_hot_labels')\n",
    "    testLabels = testLabels.eval(session=session)\n",
    "    testQ1Indices = np.array(list(testData.Q1Indexed.values),dtype=np.int32)\n",
    "    testQ2Indices = np.array(list(testData.Q2Indexed.values),dtype=np.int32)\n",
    "    \n",
    "    lTest = len(testQ1Indices) / 2\n",
    "    testFeed1 = {q1Input:testQ1Indices[:lTest],q2Input:testQ2Indices[:lTest],labels:testLabels[:lTest]}\n",
    "    testFeed2 = {q1Input:testQ1Indices[lTest:],q2Input:testQ2Indices[lTest:],labels:testLabels[lTest:]}\n",
    "    \n",
    "    for episode in range(noEpisodes):\n",
    "        episodeData = trainData.iloc[np.random.permutation(len(trainData))]\n",
    "        \n",
    "        startIdx = 0\n",
    "        episodeLoss = 0\n",
    "        for epoch in range(noEpochs):\n",
    "            batch = episodeData.iloc[startIdx:startIdx+batchSize]\n",
    "            startIdx += batchSize\n",
    "            \n",
    "            oneHotLabels = tf.one_hot(batch.is_duplicate.values,\n",
    "                              on_value=1,off_value=0,depth=2,axis=-1,name='one_hot_labels')\n",
    "            oneHotLabels = oneHotLabels.eval(session=session)\n",
    "            q1Indices = np.array(list(batch.Q1Indexed.values),dtype=np.int32)\n",
    "            q2Indices = np.array(list(batch.Q2Indexed.values),dtype=np.int32)\n",
    "            feed_dict = {q1Input:q1Indices,q2Input:q2Indices,labels:oneHotLabels}\n",
    "\n",
    "            trainMetrics = session.run(fetches,feed_dict)\n",
    "            \n",
    "            episodeLoss += trainMetrics['eval_op']\n",
    "        \n",
    "        episodeLoss /= noEpochs\n",
    "        \n",
    "        print \"Episode: \",episode\n",
    "        print \"\\t Training Loss: {0}\".format(episodeLoss)\n",
    "        print \"\\n\"\n",
    "\n",
    "        lTest = len(testQ1Indices) / 2\n",
    "        fetches = {'loss':loss, 'accuracy':accuracy}\n",
    "        testMetrics1 = session.run(fetches,testFeed1)\n",
    "        testMetrics2 = session.run(fetches,testFeed2)\n",
    "\n",
    "        testLoss = (testMetrics1['loss'] + testMetrics2['loss'])/2\n",
    "        testAccuracy = 50*(testMetrics1['accuracy'] + testMetrics2['accuracy'])\n",
    "        print \"\\t Test Loss: {0}\".format(testLoss)\n",
    "        print \"\\t Test accucary: {0}\".format(testAccuracy)\n",
    "\n",
    "        fetches = {'eval_op':train_op,'accuracy':accuracy}"
   ]
  },
  {
   "cell_type": "code",
   "execution_count": 13,
   "metadata": {
    "collapsed": true
   },
   "outputs": [],
   "source": [
    "saver = tf.train.Saver(name='sumModel_',restore_sequentially=True,reshape=False,sharded=False)"
   ]
  },
  {
   "cell_type": "code",
   "execution_count": null,
   "metadata": {
    "collapsed": false
   },
   "outputs": [
    {
     "name": "stdout",
     "output_type": "stream",
     "text": [
      "Starting...\n"
     ]
    }
   ],
   "source": [
    "saver = tf.train.Saver(name='sumModel_',restore_sequentially=True,reshape=False,sharded=False)\n",
    "with tf.Session() as session:\n",
    "    \n",
    "    fetches = {'eval_op':train_op,'accuracy':accuracy}\n",
    "    \n",
    "    print(\"Starting...\")\n",
    "    session.run(tf.global_variables_initializer())\n",
    "    \n",
    "    noEpisodes = 10\n",
    "    batchSize = 1000\n",
    "    noEpochs = len(trainData) / batchSize\n",
    "    \n",
    "    testLabels = tf.one_hot(testData.is_duplicate.values,on_value=1,\n",
    "                            off_value=0,depth=2,axis=-1,name='one_hot_labels')\n",
    "    testLabels = testLabels.eval(session=session)\n",
    "    testQ1Indices = np.array(list(testData.Q1Indexed.values),dtype=np.int32)\n",
    "    testQ2Indices = np.array(list(testData.Q2Indexed.values),dtype=np.int32)\n",
    "    \n",
    "    lTest = len(testQ1Indices) / 2\n",
    "    testFeed1 = {q1Input:testQ1Indices[:lTest],q2Input:testQ2Indices[:lTest],labels:testLabels[:lTest]}\n",
    "    testFeed2 = {q1Input:testQ1Indices[lTest:],q2Input:testQ2Indices[lTest:],labels:testLabels[lTest:]}\n",
    "    \n",
    "    for episode in range(noEpisodes):\n",
    "        episodeData = trainData.iloc[np.random.permutation(len(trainData))]\n",
    "        \n",
    "        startIdx = 0\n",
    "        episodeLoss = 0\n",
    "        for epoch in range(noEpochs):\n",
    "            batch = episodeData.iloc[startIdx:startIdx+batchSize]\n",
    "            startIdx += batchSize\n",
    "            \n",
    "            oneHotLabels = tf.one_hot(batch.is_duplicate.values,\n",
    "                              on_value=1,off_value=0,depth=2,axis=-1,name='one_hot_labels')\n",
    "            oneHotLabels = oneHotLabels.eval(session=session)\n",
    "            q1Indices = np.array(list(batch.Q1Indexed.values),dtype=np.int32)\n",
    "            q2Indices = np.array(list(batch.Q2Indexed.values),dtype=np.int32)\n",
    "            feed_dict = {q1Input:q1Indices,q2Input:q2Indices,labels:oneHotLabels}\n",
    "\n",
    "            trainMetrics = session.run(fetches,feed_dict)\n",
    "            \n",
    "            episodeLoss += trainMetrics['eval_op']\n",
    "        \n",
    "        episodeLoss /= noEpochs\n",
    "        \n",
    "        saver.save(session,save_path='/home/ubuntu/QuestionPairs/SumModel/',\n",
    "                   global_step=episode,write_meta_graph=True)\n",
    "        \n",
    "        print \"Episode: \",episode\n",
    "        print \"\\t Training Loss: {0}\".format(episodeLoss)\n",
    "        print \"\\n\"\n",
    "\n",
    "        lTest = len(testQ1Indices) / 2\n",
    "        fetches = {'loss':loss, 'accuracy':accuracy}\n",
    "        testMetrics1 = session.run(fetches,testFeed1)\n",
    "        testMetrics2 = session.run(fetches,testFeed2)\n",
    "\n",
    "        testLoss = (testMetrics1['loss'] + testMetrics2['loss'])/2\n",
    "        testAccuracy = 50*(testMetrics1['accuracy'] + testMetrics2['accuracy'])\n",
    "        print \"\\t Test Loss: {0}\".format(testLoss)\n",
    "        print \"\\t Test accucary: {0}\".format(testAccuracy)\n",
    "\n",
    "        fetches = {'eval_op':train_op,'accuracy':accuracy}"
   ]
  },
  {
   "cell_type": "code",
   "execution_count": null,
   "metadata": {
    "collapsed": true
   },
   "outputs": [],
   "source": []
  }
 ],
 "metadata": {
  "anaconda-cloud": {},
  "kernelspec": {
   "display_name": "Python 2",
   "language": "python",
   "name": "python2"
  },
  "language_info": {
   "codemirror_mode": {
    "name": "ipython",
    "version": 2
   },
   "file_extension": ".py",
   "mimetype": "text/x-python",
   "name": "python",
   "nbconvert_exporter": "python",
   "pygments_lexer": "ipython2",
   "version": "2.7.6"
  }
 },
 "nbformat": 4,
 "nbformat_minor": 0
}
