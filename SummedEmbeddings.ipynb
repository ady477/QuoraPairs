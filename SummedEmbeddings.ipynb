{
 "cells": [
  {
   "cell_type": "code",
   "execution_count": 1,
   "metadata": {
    "collapsed": false
   },
   "outputs": [],
   "source": [
    "import tensorflow as tf\n",
    "import numpy as np\n",
    "import re\n",
    "import pandas as pd\n",
    "import spacy"
   ]
  },
  {
   "cell_type": "markdown",
   "metadata": {},
   "source": [
    "### Getting input data ready"
   ]
  },
  {
   "cell_type": "code",
   "execution_count": 2,
   "metadata": {
    "collapsed": false
   },
   "outputs": [],
   "source": [
    "filePath = \"data/quora_duplicate_questions.tsv\"\n",
    "df = pd.read_csv(filePath,delimiter=\"\\t\")\n",
    "df.question1 = df.question1.fillna(\"\")\n",
    "df.question1 = df.question1.apply(str.lower)\n",
    "df.question2 = df.question2.fillna(\"\")\n",
    "df.question2 = df.question2.apply(str.lower)"
   ]
  },
  {
   "cell_type": "markdown",
   "metadata": {},
   "source": [
    "Finding unique words in dataset to create vocabulary"
   ]
  },
  {
   "cell_type": "code",
   "execution_count": 14,
   "metadata": {
    "collapsed": false
   },
   "outputs": [],
   "source": [
    "def tokenize(s,nlp):\n",
    "    doc = nlp(s)\n",
    "    tokSen = []\n",
    "    for word in doc:\n",
    "        tokSen.append(word.text)\n",
    "    return tokSen\n",
    "\n",
    "nlp = spacy.load('en')\n",
    "uniqueQuestions = df.question1.unique()\n",
    "tokenizedQns = [tokenize(unicode(sentence,'utf8'),nlp) for sentence in uniqueQuestions]\n",
    "words = [word for tokWords in tokenizedQns for word in tokWords]\n",
    "\n",
    "words2 = df.question2.unique()\n",
    "words2 = [tokenize(unicode(sentence,'utf8'),nlp) for sentence in words2]\n",
    "words2 = [word for tokWords in words2 for word in tokWords]\n",
    "words.extend(words2)"
   ]
  },
  {
   "cell_type": "markdown",
   "metadata": {},
   "source": [
    "Adding PAD as filler for normalizing sentence length and UNK for unkown tokens"
   ]
  },
  {
   "cell_type": "code",
   "execution_count": 15,
   "metadata": {
    "collapsed": false,
    "scrolled": true
   },
   "outputs": [
    {
     "name": "stdout",
     "output_type": "stream",
     "text": [
      "('Vocabulary Size including PAD and UNK: ', 98364)\n"
     ]
    }
   ],
   "source": [
    "words = set(words)\n",
    "vocabulary = dict(zip(words,range(2,len(words)+2)))\n",
    "vocabulary['PAD'] = 0\n",
    "vocabulary['UNK'] = 1\n",
    "print(\"Vocabulary Size including PAD and UNK: \",len(vocabulary))"
   ]
  },
  {
   "cell_type": "markdown",
   "metadata": {},
   "source": [
    "Each question represented as list of index in the vocabulary"
   ]
  },
  {
   "cell_type": "code",
   "execution_count": 21,
   "metadata": {
    "collapsed": false
   },
   "outputs": [],
   "source": [
    "def loadWordVectors(filePath,vocab):\n",
    "    txt = open('data/wiki.en.vec')\n",
    "    wordVecs = [None for i in range(len(vocab))]\n",
    "    for line in txt:\n",
    "        splitData = line.split(\" \")\n",
    "        word = splitData[0]\n",
    "        word = unicode(word,'utf8')\n",
    "        if(word not in vocab):\n",
    "            continue\n",
    "        vector = splitData[1:len(splitData)-1]\n",
    "        wordVecs[vocab[word]] = np.array(vector,dtype=float)\n",
    "    return wordVecs\n",
    "\n",
    "wordVecs = loadWordVectors('wiki/wiki.en.vec',vocabulary)"
   ]
  },
  {
   "cell_type": "code",
   "execution_count": 25,
   "metadata": {
    "collapsed": false
   },
   "outputs": [
    {
     "ename": "KeyError",
     "evalue": "0",
     "output_type": "error",
     "traceback": [
      "\u001b[1;31m---------------------------------------------------------------------------\u001b[0m",
      "\u001b[1;31mKeyError\u001b[0m                                  Traceback (most recent call last)",
      "\u001b[1;32m<ipython-input-25-01d58fb85f50>\u001b[0m in \u001b[0;36m<module>\u001b[1;34m()\u001b[0m\n\u001b[0;32m      5\u001b[0m     \u001b[1;32mif\u001b[0m\u001b[1;33m(\u001b[0m\u001b[0mw\u001b[0m \u001b[1;32mis\u001b[0m \u001b[0mNone\u001b[0m\u001b[1;33m)\u001b[0m\u001b[1;33m:\u001b[0m\u001b[1;33m\u001b[0m\u001b[0m\n\u001b[0;32m      6\u001b[0m         \u001b[0mcount\u001b[0m \u001b[1;33m+=\u001b[0m \u001b[1;36m1\u001b[0m\u001b[1;33m\u001b[0m\u001b[0m\n\u001b[1;32m----> 7\u001b[1;33m         \u001b[0mnotFound\u001b[0m\u001b[1;33m.\u001b[0m\u001b[0mappend\u001b[0m\u001b[1;33m(\u001b[0m\u001b[0mvocabulary\u001b[0m\u001b[1;33m[\u001b[0m\u001b[0midx\u001b[0m\u001b[1;33m]\u001b[0m\u001b[1;33m)\u001b[0m\u001b[1;33m\u001b[0m\u001b[0m\n\u001b[0m\u001b[0;32m      8\u001b[0m     \u001b[0midx\u001b[0m \u001b[1;33m+=\u001b[0m \u001b[1;36m1\u001b[0m\u001b[1;33m\u001b[0m\u001b[0m\n\u001b[0;32m      9\u001b[0m \u001b[1;32mprint\u001b[0m\u001b[1;33m(\u001b[0m\u001b[0mcount\u001b[0m\u001b[1;33m)\u001b[0m\u001b[1;33m\u001b[0m\u001b[0m\n",
      "\u001b[1;31mKeyError\u001b[0m: 0"
     ]
    }
   ],
   "source": [
    "count = 0\n",
    "idx = 0 \n",
    "notFound = []\n",
    "for w in wordVecs:\n",
    "    if(w is None):\n",
    "        count += 1\n",
    "        notFound.append(vocabulary[idx])\n",
    "    idx += 1\n",
    "print(count)\n",
    "print(len(wordVecs))\n",
    "print(float(count)/len(wordVecs))"
   ]
  },
  {
   "cell_type": "code",
   "execution_count": null,
   "metadata": {
    "collapsed": false
   },
   "outputs": [],
   "source": [
    "def tokenizeAndIndex(sentence):\n",
    "    words = tokenize(unicode(sentence,'utf8'),nlp)\n",
    "    retVal = [vocabulary[word] if word in vocabulary else vocabulary['UNK'] for word in words]\n",
    "    return retVal\n",
    "df['Q1Indexed'] = df.question1.apply(tokenizeAndIndex)\n",
    "df['Q2Indexed'] = df.question2.apply(tokenizeAndIndex)"
   ]
  },
  {
   "cell_type": "markdown",
   "metadata": {},
   "source": [
    "Threshold questions with total words <= 50"
   ]
  },
  {
   "cell_type": "code",
   "execution_count": null,
   "metadata": {
    "collapsed": false
   },
   "outputs": [],
   "source": [
    "seqLength = 50\n",
    "df = df[df.Q1Indexed.apply(len) <= seqLength]\n",
    "df = df[df.Q2Indexed.apply(len) <= seqLength]\n",
    "\n",
    "def normalizeSequenceLength(sequence):\n",
    "    if(len(sequence) < seqLength):\n",
    "        padding = [vocabulary['PAD'] for i in range(seqLength - len(sequence))]\n",
    "        sequence.extend(padding)\n",
    "    return sequence\n",
    "df.Q1Indexed = df.Q1Indexed.apply(normalizeSequenceLength)\n",
    "df.Q2Indexed = df.Q2Indexed.apply(normalizeSequenceLength)"
   ]
  },
  {
   "cell_type": "markdown",
   "metadata": {},
   "source": [
    "### Building the network"
   ]
  },
  {
   "cell_type": "markdown",
   "metadata": {},
   "source": [
    "Creating setence embedding"
   ]
  },
  {
   "cell_type": "code",
   "execution_count": null,
   "metadata": {
    "collapsed": false
   },
   "outputs": [],
   "source": [
    "vocab_size = len(vocabulary)\n",
    "embedding_size = 100\n",
    "\n",
    "W = tf.Variable(tf.random_uniform([vocab_size, embedding_size], -1.0, 1.0),name=\"W\")\n",
    "\n",
    "q1Input = tf.placeholder(tf.int32, [None, seqLength], name=\"q1Input\")\n",
    "q1Embeddings = tf.nn.embedding_lookup(W, q1Input)\n",
    "q1Embeddings = tf.reduce_sum(q1Embeddings, 1)\n",
    "\n",
    "q2Input = tf.placeholder(tf.int32, [None, seqLength], name=\"q1Input\")\n",
    "q2Embeddings = tf.nn.embedding_lookup(W, q2Input)\n",
    "q2Embeddings = tf.reduce_sum(q2Embeddings, 1)\n",
    "\n",
    "sentenceEmbedding = tf.concat([q1Embeddings,q2Embeddings],axis=1,name='sentenceEmbedding')"
   ]
  },
  {
   "cell_type": "markdown",
   "metadata": {},
   "source": [
    "Dense layers and output"
   ]
  },
  {
   "cell_type": "code",
   "execution_count": null,
   "metadata": {
    "collapsed": false
   },
   "outputs": [],
   "source": [
    "dense1 = tf.layers.dense(inputs=sentenceEmbedding, units=embedding_size*2, activation=tf.nn.tanh,name='dense1')\n",
    "dense2 = tf.layers.dense(inputs=dense1, units=embedding_size*2, activation=tf.nn.tanh,name='dense2')\n",
    "dense3 = tf.layers.dense(inputs=dense2, units=embedding_size*2, activation=tf.nn.tanh,name='dense3')\n",
    "logits = tf.layers.dense(inputs=dense3, units=2,name='logits')\n",
    "predictions = tf.argmax(input=tf.nn.softmax(logits=logits,dim=-1,name='softmax'),axis=1,name='output')"
   ]
  },
  {
   "cell_type": "markdown",
   "metadata": {},
   "source": [
    "Loss and gradient updates"
   ]
  },
  {
   "cell_type": "code",
   "execution_count": null,
   "metadata": {
    "collapsed": false
   },
   "outputs": [],
   "source": [
    "num_classes = 2\n",
    "labels = tf.placeholder(tf.int32,[None,num_classes],name='labels')\n",
    "\n",
    "loss = None\n",
    "train_op = None\n",
    "\n",
    "# Calculate loss for both TRAIN and EVAL modes\n",
    "loss = tf.losses.softmax_cross_entropy(onehot_labels=labels, logits=logits)\n",
    "train_op = tf.contrib.layers.optimize_loss(loss=loss,\n",
    "                                           global_step=tf.contrib.framework.get_global_step(),\n",
    "                                           learning_rate=0.001,\n",
    "                                           optimizer=\"Adam\")\n",
    "correct_prediction = tf.equal(predictions, tf.argmax(labels,1))\n",
    "accuracy = tf.reduce_mean(tf.cast(correct_prediction, \"float\"))"
   ]
  },
  {
   "cell_type": "markdown",
   "metadata": {},
   "source": [
    "Prepare variables for training epoch"
   ]
  },
  {
   "cell_type": "code",
   "execution_count": null,
   "metadata": {
    "collapsed": false,
    "scrolled": false
   },
   "outputs": [],
   "source": [
    "positiveSamples = df[df.is_duplicate==1]\n",
    "negativeSamples = df[df.is_duplicate==0]\n",
    "\n",
    "#Testing data\n",
    "positiveTest = positiveSamples.sample(frac=0.3)\n",
    "negativeTest = negativeSamples.sample(frac=0.3)\n",
    "testData = positiveTest.append(negativeTest)\n",
    "print(\"Number of test samples: {0}\".format(len(testData)))\n",
    "#Training data\n",
    "trainData = df[df.id.isin(testData.id) == False]\n",
    "print(\"Number of train samples: {0}\".format(len(trainData)))"
   ]
  },
  {
   "cell_type": "code",
   "execution_count": null,
   "metadata": {
    "collapsed": true
   },
   "outputs": [],
   "source": [
    "saver = tf.train.Saver(name='sumModel_',restore_sequentially=True,reshape=False,sharded=False)\n",
    "with tf.Session() as session:\n",
    "    \n",
    "    fetches = {'eval_op':train_op,'accuracy':accuracy}\n",
    "    \n",
    "    print(\"Starting...\")\n",
    "    session.run(tf.global_variables_initializer())\n",
    "    \n",
    "    noEpisodes = 10\n",
    "    batchSize = 1000\n",
    "    noEpochs = len(trainData) / batchSize\n",
    "    \n",
    "    testLabels = tf.one_hot(testData.is_duplicate.values,on_value=1,\n",
    "                            off_value=0,depth=2,axis=-1,name='one_hot_labels')\n",
    "    testLabels = testLabels.eval(session=session)\n",
    "    testQ1Indices = np.array(list(testData.Q1Indexed.values),dtype=np.int32)\n",
    "    testQ2Indices = np.array(list(testData.Q2Indexed.values),dtype=np.int32)\n",
    "    \n",
    "    lTest = len(testQ1Indices) / 2\n",
    "    testFeed1 = {q1Input:testQ1Indices[:lTest],q2Input:testQ2Indices[:lTest],labels:testLabels[:lTest]}\n",
    "    testFeed2 = {q1Input:testQ1Indices[lTest:],q2Input:testQ2Indices[lTest:],labels:testLabels[lTest:]}\n",
    "    \n",
    "    for episode in range(noEpisodes):\n",
    "        episodeData = trainData.iloc[np.random.permutation(len(trainData))]\n",
    "        \n",
    "        startIdx = 0\n",
    "        episodeLoss = 0\n",
    "        for epoch in range(noEpochs):\n",
    "            batch = episodeData.iloc[startIdx:startIdx+batchSize]\n",
    "            startIdx += batchSize\n",
    "            \n",
    "            oneHotLabels = tf.one_hot(batch.is_duplicate.values,\n",
    "                              on_value=1,off_value=0,depth=2,axis=-1,name='one_hot_labels')\n",
    "            oneHotLabels = oneHotLabels.eval(session=session)\n",
    "            q1Indices = np.array(list(batch.Q1Indexed.values),dtype=np.int32)\n",
    "            q2Indices = np.array(list(batch.Q2Indexed.values),dtype=np.int32)\n",
    "            feed_dict = {q1Input:q1Indices,q2Input:q2Indices,labels:oneHotLabels}\n",
    "\n",
    "            trainMetrics = session.run(fetches,feed_dict)\n",
    "            \n",
    "            episodeLoss += trainMetrics['eval_op']\n",
    "        \n",
    "        episodeLoss /= noEpochs\n",
    "        \n",
    "        saver.save(session,save_path='/home/ubuntu/QuestionPairs/SumModel/',\n",
    "                   global_step=episode,write_meta_graph=True)\n",
    "        \n",
    "        print \"Episode: \",episode\n",
    "        print \"\\t Training Loss: {0}\".format(episodeLoss)\n",
    "        print \"\\n\"\n",
    "\n",
    "        lTest = len(testQ1Indices) / 2\n",
    "        fetches = {'loss':loss, 'accuracy':accuracy}\n",
    "        testMetrics1 = session.run(fetches,testFeed1)\n",
    "        testMetrics2 = session.run(fetches,testFeed2)\n",
    "\n",
    "        testLoss = (testMetrics1['loss'] + testMetrics2['loss'])/2\n",
    "        testAccuracy = 50*(testMetrics1['accuracy'] + testMetrics2['accuracy'])\n",
    "        print \"\\t Test Loss: {0}\".format(testLoss)\n",
    "        print \"\\t Test accucary: {0}\".format(testAccuracy)\n",
    "\n",
    "        fetches = {'eval_op':train_op,'accuracy':accuracy}"
   ]
  },
  {
   "cell_type": "markdown",
   "metadata": {},
   "source": [
    "Testing restore and predictions"
   ]
  },
  {
   "cell_type": "code",
   "execution_count": null,
   "metadata": {
    "collapsed": false
   },
   "outputs": [],
   "source": [
    "with tf.Session() as sess:\n",
    "    saver = tf.train.import_meta_graph('/home/ubuntu/QuestionPairs/SumModel/-9.meta')\n",
    "    saver.restore(sess, '/home/ubuntu/QuestionPairs/SumModel/-9')\n",
    "    \n",
    "    temp = predictions.eval(session=sess,feed_dict=testFeed1)"
   ]
  },
  {
   "cell_type": "code",
   "execution_count": null,
   "metadata": {
    "collapsed": false,
    "scrolled": false
   },
   "outputs": [],
   "source": [
    "#np.argmax(testLabels[:lTest],axis=1)\n",
    "actual = np.argmax(testLabels[:lTest],axis=1)\n",
    "predicted = temp"
   ]
  },
  {
   "cell_type": "code",
   "execution_count": null,
   "metadata": {
    "collapsed": false
   },
   "outputs": [],
   "source": [
    "y = actual - predicted\n",
    "print \"%age of non duplicates classified as duplicates: \", float(len(y[y==-1])) / float(len(y))\n",
    "print \"%age of duplicates classified as non duplicates: \", float(len(y[y==1])) / float(len(y))"
   ]
  }
 ],
 "metadata": {
  "anaconda-cloud": {},
  "kernelspec": {
   "display_name": "Python 2",
   "language": "python",
   "name": "python2"
  },
  "language_info": {
   "codemirror_mode": {
    "name": "ipython",
    "version": 2
   },
   "file_extension": ".py",
   "mimetype": "text/x-python",
   "name": "python",
   "nbconvert_exporter": "python",
   "pygments_lexer": "ipython2",
   "version": "2.7.6"
  }
 },
 "nbformat": 4,
 "nbformat_minor": 0
}
